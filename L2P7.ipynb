{
  "nbformat": 4,
  "nbformat_minor": 0,
  "metadata": {
    "colab": {
      "provenance": [],
      "authorship_tag": "ABX9TyNx8ldgDwrmQmVOCDjX38c7",
      "include_colab_link": true
    },
    "kernelspec": {
      "name": "python3",
      "display_name": "Python 3"
    },
    "language_info": {
      "name": "python"
    }
  },
  "cells": [
    {
      "cell_type": "markdown",
      "metadata": {
        "id": "view-in-github",
        "colab_type": "text"
      },
      "source": [
        "<a href=\"https://colab.research.google.com/github/OIBSIP-25-26/L2P7/blob/main/L2P7.ipynb\" target=\"_parent\"><img src=\"https://colab.research.google.com/assets/colab-badge.svg\" alt=\"Open In Colab\"/></a>"
      ]
    },
    {
      "cell_type": "code",
      "execution_count": 1,
      "metadata": {
        "colab": {
          "base_uri": "https://localhost:8080/",
          "height": 609
        },
        "id": "KBgEpAh88Ngq",
        "outputId": "fceb2640-f3aa-4c0f-9a45-a162e294a0bc"
      },
      "outputs": [
        {
          "output_type": "stream",
          "name": "stdout",
          "text": [
            "Classification report:\n",
            "              precision    recall  f1-score   support\n",
            "\n",
            "           0       0.99      0.97      0.98      3945\n",
            "           1       0.03      0.07      0.05        55\n",
            "\n",
            "    accuracy                           0.96      4000\n",
            "   macro avg       0.51      0.52      0.51      4000\n",
            "weighted avg       0.97      0.96      0.97      4000\n",
            "\n",
            "ROC AUC: 0.5089249913584515\n"
          ]
        },
        {
          "output_type": "display_data",
          "data": {
            "text/plain": [
              "<Figure size 500x400 with 2 Axes>"
            ],
            "image/png": "[encoded data removed]"
          },
          "metadata": {}
        },
        {
          "output_type": "stream",
          "name": "stdout",
          "text": [
            "Outputs saved to fraud_output\n"
          ]
        }
      ],
      "source": [
        "\"\"\"\n",
        "fraud_detection.py\n",
        "Detect fraudulent transactions using a simple RandomForest on synthetic data.\n",
        "Run: python fraud_detection.py\n",
        "Generates: model saved, classification report printed.\n",
        "\"\"\"\n",
        "import numpy as np\n",
        "import pandas as pd\n",
        "import os\n",
        "from sklearn.model_selection import train_test_split\n",
        "from sklearn.ensemble import RandomForestClassifier\n",
        "from sklearn.metrics import classification_report, roc_auc_score, confusion_matrix\n",
        "import joblib\n",
        "import seaborn as sns\n",
        "import matplotlib.pyplot as plt\n",
        "sns.set()\n",
        "\n",
        "OUT_DIR = \"fraud_output\"\n",
        "os.makedirs(OUT_DIR, exist_ok=True)\n",
        "np.random.seed(123)\n",
        "\n",
        "# Create synthetic transactions\n",
        "n = 20000\n",
        "amount = np.random.exponential(scale=100, size=n)  # transaction amount\n",
        "time_delta = np.random.randint(0, 60*60*24, size=n)  # seconds since some period start\n",
        "merchant_type = np.random.choice([\"grocery\",\"electronics\",\"travel\",\"fashion\",\"utilities\"], size=n, p=[0.4,0.15,0.1,0.2,0.15])\n",
        "customer_age = np.random.randint(18, 75, size=n)\n",
        "country = np.random.choice([\"IN\",\"US\",\"UK\",\"DE\",\"FR\"], size=n, p=[0.5,0.2,0.1,0.1,0.1])\n",
        "\n",
        "# Simulate fraud: small proportion, but correlated with high amount, travel merchant, and odd hours\n",
        "is_fraud = (np.random.rand(n) < 0.01).astype(int)  # base 1% fraud\n",
        "is_fraud = np.where((amount>1000) & (np.random.rand(n) < 0.05), 1, is_fraud)\n",
        "is_fraud = np.where((merchant_type==\"travel\") & (np.random.rand(n) < 0.03), 1, is_fraud)\n",
        "is_fraud = np.where(((time_delta%86400) < 3600) & (np.random.rand(n) < 0.02), 1, is_fraud)\n",
        "\n",
        "df = pd.DataFrame({\n",
        "    \"amount\": amount,\n",
        "    \"time_delta\": time_delta,\n",
        "    \"merchant_type\": merchant_type,\n",
        "    \"customer_age\": customer_age,\n",
        "    \"country\": country,\n",
        "    \"is_fraud\": is_fraud\n",
        "})\n",
        "\n",
        "# One-hot encode categorical\n",
        "df_enc = pd.get_dummies(df, columns=[\"merchant_type\",\"country\"], drop_first=True)\n",
        "\n",
        "X = df_enc.drop(columns=[\"is_fraud\"])\n",
        "y = df_enc[\"is_fraud\"]\n",
        "\n",
        "X_train, X_test, y_train, y_test = train_test_split(X, y, test_size=0.2, stratify=y, random_state=42)\n",
        "\n",
        "clf = RandomForestClassifier(n_estimators=200, max_depth=10, class_weight=\"balanced\", random_state=42)\n",
        "clf.fit(X_train, y_train)\n",
        "y_pred = clf.predict(X_test)\n",
        "y_proba = clf.predict_proba(X_test)[:,1]\n",
        "\n",
        "print(\"Classification report:\")\n",
        "print(classification_report(y_test, y_pred))\n",
        "try:\n",
        "    auc = roc_auc_score(y_test, y_proba)\n",
        "    print(\"ROC AUC:\", auc)\n",
        "except Exception as e:\n",
        "    print(\"ROC AUC not computable:\", e)\n",
        "\n",
        "# Save model\n",
        "joblib.dump(clf, os.path.join(OUT_DIR, \"fraud_rf_model.joblib\"))\n",
        "\n",
        "# Confusion matrix plot\n",
        "cm = confusion_matrix(y_test, y_pred)\n",
        "plt.figure(figsize=(5,4))\n",
        "sns.heatmap(cm, annot=True, fmt=\"d\", cmap=\"Blues\")\n",
        "plt.xlabel(\"Predicted\")\n",
        "plt.ylabel(\"Actual\")\n",
        "plt.title(\"Confusion Matrix\")\n",
        "plt.tight_layout()\n",
        "plt.savefig(os.path.join(OUT_DIR, \"confusion_matrix.png\"))\n",
        "plt.show()\n",
        "\n",
        "df.to_csv(os.path.join(OUT_DIR, \"transactions_synthetic.csv\"), index=False)\n",
        "print(f\"Outputs saved to {OUT_DIR}\")\n"
      ]
    }
  ]
}